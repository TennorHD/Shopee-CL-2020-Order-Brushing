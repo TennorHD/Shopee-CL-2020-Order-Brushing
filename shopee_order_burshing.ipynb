{
 "cells": [
  {
   "cell_type": "markdown",
   "metadata": {},
   "source": [
    "# Shopee Code League: Order Brushing"
   ]
  },
  {
   "cell_type": "code",
   "execution_count": 1,
   "metadata": {},
   "outputs": [],
   "source": [
    "import pandas as pd\n",
    "from tqdm import tqdm_notebook\n",
    "from collections import defaultdict \n",
    "from datetime import datetime, timedelta"
   ]
  },
  {
   "cell_type": "code",
   "execution_count": 2,
   "metadata": {},
   "outputs": [],
   "source": [
    "data = pd.read_csv('./order_brush_order.csv')"
   ]
  },
  {
   "cell_type": "markdown",
   "metadata": {},
   "source": [
    "# Data Observation"
   ]
  },
  {
   "cell_type": "code",
   "execution_count": 3,
   "metadata": {
    "scrolled": true
   },
   "outputs": [
    {
     "data": {
      "text/html": [
       "<div>\n",
       "<style scoped>\n",
       "    .dataframe tbody tr th:only-of-type {\n",
       "        vertical-align: middle;\n",
       "    }\n",
       "\n",
       "    .dataframe tbody tr th {\n",
       "        vertical-align: top;\n",
       "    }\n",
       "\n",
       "    .dataframe thead th {\n",
       "        text-align: right;\n",
       "    }\n",
       "</style>\n",
       "<table border=\"1\" class=\"dataframe\">\n",
       "  <thead>\n",
       "    <tr style=\"text-align: right;\">\n",
       "      <th></th>\n",
       "      <th>orderid</th>\n",
       "      <th>shopid</th>\n",
       "      <th>userid</th>\n",
       "      <th>event_time</th>\n",
       "    </tr>\n",
       "  </thead>\n",
       "  <tbody>\n",
       "    <tr>\n",
       "      <td>0</td>\n",
       "      <td>31076582227611</td>\n",
       "      <td>93950878</td>\n",
       "      <td>30530270</td>\n",
       "      <td>2019-12-27 00:23:03</td>\n",
       "    </tr>\n",
       "    <tr>\n",
       "      <td>1</td>\n",
       "      <td>31118059853484</td>\n",
       "      <td>156423439</td>\n",
       "      <td>46057927</td>\n",
       "      <td>2019-12-27 11:54:20</td>\n",
       "    </tr>\n",
       "    <tr>\n",
       "      <td>2</td>\n",
       "      <td>31123355095755</td>\n",
       "      <td>173699291</td>\n",
       "      <td>67341739</td>\n",
       "      <td>2019-12-27 13:22:35</td>\n",
       "    </tr>\n",
       "    <tr>\n",
       "      <td>3</td>\n",
       "      <td>31122059872723</td>\n",
       "      <td>63674025</td>\n",
       "      <td>149380322</td>\n",
       "      <td>2019-12-27 13:01:00</td>\n",
       "    </tr>\n",
       "    <tr>\n",
       "      <td>4</td>\n",
       "      <td>31117075665123</td>\n",
       "      <td>127249066</td>\n",
       "      <td>149493217</td>\n",
       "      <td>2019-12-27 11:37:55</td>\n",
       "    </tr>\n",
       "  </tbody>\n",
       "</table>\n",
       "</div>"
      ],
      "text/plain": [
       "          orderid     shopid     userid           event_time\n",
       "0  31076582227611   93950878   30530270  2019-12-27 00:23:03\n",
       "1  31118059853484  156423439   46057927  2019-12-27 11:54:20\n",
       "2  31123355095755  173699291   67341739  2019-12-27 13:22:35\n",
       "3  31122059872723   63674025  149380322  2019-12-27 13:01:00\n",
       "4  31117075665123  127249066  149493217  2019-12-27 11:37:55"
      ]
     },
     "execution_count": 3,
     "metadata": {},
     "output_type": "execute_result"
    }
   ],
   "source": [
    "data.head()"
   ]
  },
  {
   "cell_type": "code",
   "execution_count": 4,
   "metadata": {},
   "outputs": [
    {
     "data": {
      "text/plain": [
       "'2019-12-27 00:23:03'"
      ]
     },
     "execution_count": 4,
     "metadata": {},
     "output_type": "execute_result"
    }
   ],
   "source": [
    "data.event_time.loc[0]"
   ]
  },
  {
   "cell_type": "markdown",
   "metadata": {},
   "source": [
    "# Code"
   ]
  },
  {
   "cell_type": "code",
   "execution_count": 5,
   "metadata": {},
   "outputs": [
    {
     "data": {
      "application/vnd.jupyter.widget-view+json": {
       "model_id": "fb5e49e15bac45958a996cd2cf99bd56",
       "version_major": 2,
       "version_minor": 0
      },
      "text/plain": [
       "HBox(children=(IntProgress(value=0, max=222750), HTML(value='')))"
      ]
     },
     "metadata": {},
     "output_type": "display_data"
    },
    {
     "name": "stdout",
     "output_type": "stream",
     "text": [
      "\n"
     ]
    }
   ],
   "source": [
    "# create dictionary default to list if non-initiated key is called\n",
    "shops_dict = defaultdict(list)\n",
    "\n",
    "for i in tqdm_notebook(range(len(data))):\n",
    "    oid, sid, uid, event_time = data.loc[i]\n",
    "    time = datetime.strptime(event_time, '%Y-%m-%d %H:%M:%S')\n",
    "    shops_dict[sid].append((time,uid,oid))"
   ]
  },
  {
   "cell_type": "code",
   "execution_count": 6,
   "metadata": {},
   "outputs": [],
   "source": [
    "mot_gio = timedelta(hours=1.)\n",
    "hai_gio = timedelta(hours=2.)\n",
    "\n",
    "def detect(orders,pivot,pointer):\n",
    "    assert(pivot <= pointer and pointer < len(orders) and pivot > 0)\n",
    "    seg = defaultdict(list)\n",
    "    \n",
    "    for i in range(pivot, pointer+1):\n",
    "        uid = orders[i][1]\n",
    "        oid = orders[i][2]\n",
    "        seg[uid].append(oid)\n",
    "    \n",
    "    brushing = (pointer-pivot+1 >= 3*len(seg)) # number of orders >= ( 3 * number of unique users )\n",
    "    return brushing, seg\n",
    "\n",
    "'''\n",
    "param: orders\n",
    "    orders: a list of tuples of record of orders of the shop\n",
    "        in a shape of (time, userid, orderid) -> index = (0,1,2)\n",
    "'''\n",
    "def scan_through(orders):\n",
    "    brushing_order_dict = {} # make sure no duplicated orders\n",
    "    brushing_occurs = False # flag\n",
    "    \n",
    "    # get the first and the last of the sorted orders\n",
    "    orders_head = orders[0][0]\n",
    "    orders_tail = orders[-1][0]\n",
    "    \n",
    "    # insert two placeholder into the head and tail of the orders\n",
    "    # which have time far enough from the head and the tail\n",
    "    header = (orders_head + hai_gio,)\n",
    "    footer = (orders_tail + hai_gio,)\n",
    "    orders.insert(0,header)\n",
    "    orders.append(  footer)\n",
    "    \n",
    "    for pivot in range(1, len(orders)-1): # don't include the header and footer\n",
    "        for pointer in range(pivot, len(orders)-1):\n",
    "            if orders[pointer][0] - orders[pivot][0] <= mot_gio :\n",
    "                if (orders[pointer+1][0] - orders[pivot-1][0] > mot_gio and\n",
    "                    orders[pointer+1][0] != orders[pointer][0] and\n",
    "                    orders[pivot][0] != orders[pivot-1][0]):\n",
    "                    brushing, seg = detect(orders,pivot,pointer)\n",
    "                    \n",
    "                    if brushing:\n",
    "                        brushing_occurs = True\n",
    "                        for uid, oid_list in seg.items():\n",
    "                            for order in oid_list:\n",
    "                                brushing_order_dict[order] = uid\n",
    "                                \n",
    "    suspicious_users = defaultdict(int)\n",
    "    \n",
    "    maxim = -1\n",
    "    for oid, uid in brushing_order_dict.items():\n",
    "        suspicious_users[uid] += 1\n",
    "        maxim = max(maxim, suspicious_users[uid])\n",
    "        \n",
    "    candidates = []\n",
    "    \n",
    "    for uid, count in suspicious_users.items():\n",
    "        if (count == maxim):\n",
    "            candidates.append(uid)\n",
    "    \n",
    "    if len(candidates)==0:\n",
    "        return brushing_occurs, '0'\n",
    "    else:\n",
    "        candidates.sort()\n",
    "        return brushing_occurs, \"&\".join([str(uid) for uid in candidates])"
   ]
  },
  {
   "cell_type": "code",
   "execution_count": 7,
   "metadata": {},
   "outputs": [],
   "source": [
    "result = []\n",
    "for sid, orders in shops_dict.items():\n",
    "    orders.sort()\n",
    "    brushing_occurs, report_string = scan_through(orders)\n",
    "    result.append((sid, report_string))\n",
    "    \n",
    "df = pd.DataFrame(result, columns= ['shopid', 'userid'])\n",
    "df.to_csv('result.csv', index=False, header=True)"
   ]
  }
 ],
 "metadata": {
  "kernelspec": {
   "display_name": "Python 3",
   "language": "python",
   "name": "python3"
  },
  "language_info": {
   "codemirror_mode": {
    "name": "ipython",
    "version": 3
   },
   "file_extension": ".py",
   "mimetype": "text/x-python",
   "name": "python",
   "nbconvert_exporter": "python",
   "pygments_lexer": "ipython3",
   "version": "3.7.4"
  }
 },
 "nbformat": 4,
 "nbformat_minor": 2
}
