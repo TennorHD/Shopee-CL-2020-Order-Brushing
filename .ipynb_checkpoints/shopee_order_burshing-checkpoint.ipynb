{
 "cells": [
  {
   "cell_type": "markdown",
   "metadata": {},
   "source": [
    "# Shopee Code League: Order Brushing"
   ]
  },
  {
   "cell_type": "code",
   "execution_count": 20,
   "metadata": {},
   "outputs": [],
   "source": [
    "import pandas as pd\n",
    "from tqdm import tqdm_notebook\n",
    "from collections import defaultdict \n",
    "from datetime import datetime, timedelta"
   ]
  },
  {
   "cell_type": "code",
   "execution_count": 2,
   "metadata": {},
   "outputs": [],
   "source": [
    "data = pd.read_csv('./order_brush_order.csv')"
   ]
  },
  {
   "cell_type": "code",
   "execution_count": 3,
   "metadata": {
    "scrolled": true
   },
   "outputs": [
    {
     "data": {
      "text/html": [
       "<div>\n",
       "<style scoped>\n",
       "    .dataframe tbody tr th:only-of-type {\n",
       "        vertical-align: middle;\n",
       "    }\n",
       "\n",
       "    .dataframe tbody tr th {\n",
       "        vertical-align: top;\n",
       "    }\n",
       "\n",
       "    .dataframe thead th {\n",
       "        text-align: right;\n",
       "    }\n",
       "</style>\n",
       "<table border=\"1\" class=\"dataframe\">\n",
       "  <thead>\n",
       "    <tr style=\"text-align: right;\">\n",
       "      <th></th>\n",
       "      <th>orderid</th>\n",
       "      <th>shopid</th>\n",
       "      <th>userid</th>\n",
       "      <th>event_time</th>\n",
       "    </tr>\n",
       "  </thead>\n",
       "  <tbody>\n",
       "    <tr>\n",
       "      <td>0</td>\n",
       "      <td>31076582227611</td>\n",
       "      <td>93950878</td>\n",
       "      <td>30530270</td>\n",
       "      <td>2019-12-27 00:23:03</td>\n",
       "    </tr>\n",
       "    <tr>\n",
       "      <td>1</td>\n",
       "      <td>31118059853484</td>\n",
       "      <td>156423439</td>\n",
       "      <td>46057927</td>\n",
       "      <td>2019-12-27 11:54:20</td>\n",
       "    </tr>\n",
       "    <tr>\n",
       "      <td>2</td>\n",
       "      <td>31123355095755</td>\n",
       "      <td>173699291</td>\n",
       "      <td>67341739</td>\n",
       "      <td>2019-12-27 13:22:35</td>\n",
       "    </tr>\n",
       "    <tr>\n",
       "      <td>3</td>\n",
       "      <td>31122059872723</td>\n",
       "      <td>63674025</td>\n",
       "      <td>149380322</td>\n",
       "      <td>2019-12-27 13:01:00</td>\n",
       "    </tr>\n",
       "    <tr>\n",
       "      <td>4</td>\n",
       "      <td>31117075665123</td>\n",
       "      <td>127249066</td>\n",
       "      <td>149493217</td>\n",
       "      <td>2019-12-27 11:37:55</td>\n",
       "    </tr>\n",
       "  </tbody>\n",
       "</table>\n",
       "</div>"
      ],
      "text/plain": [
       "          orderid     shopid     userid           event_time\n",
       "0  31076582227611   93950878   30530270  2019-12-27 00:23:03\n",
       "1  31118059853484  156423439   46057927  2019-12-27 11:54:20\n",
       "2  31123355095755  173699291   67341739  2019-12-27 13:22:35\n",
       "3  31122059872723   63674025  149380322  2019-12-27 13:01:00\n",
       "4  31117075665123  127249066  149493217  2019-12-27 11:37:55"
      ]
     },
     "execution_count": 3,
     "metadata": {},
     "output_type": "execute_result"
    }
   ],
   "source": [
    "data.head()"
   ]
  },
  {
   "cell_type": "code",
   "execution_count": 4,
   "metadata": {},
   "outputs": [
    {
     "data": {
      "text/plain": [
       "'2019-12-27 00:23:03'"
      ]
     },
     "execution_count": 4,
     "metadata": {},
     "output_type": "execute_result"
    }
   ],
   "source": [
    "data.event_time.loc[0]"
   ]
  },
  {
   "cell_type": "code",
   "execution_count": 5,
   "metadata": {},
   "outputs": [],
   "source": [
    "# create dictionary default to list if non-initiated key is called\n",
    "shops_dict = defaultdict(list)"
   ]
  },
  {
   "cell_type": "code",
   "execution_count": 6,
   "metadata": {},
   "outputs": [
    {
     "data": {
      "application/vnd.jupyter.widget-view+json": {
       "model_id": "b753cf47d4244132b1a6fdf0fab8de14",
       "version_major": 2,
       "version_minor": 0
      },
      "text/plain": [
       "HBox(children=(IntProgress(value=0, max=222750), HTML(value='')))"
      ]
     },
     "metadata": {},
     "output_type": "display_data"
    },
    {
     "name": "stdout",
     "output_type": "stream",
     "text": [
      "\n"
     ]
    }
   ],
   "source": [
    "for i in tqdm_notebook(range(len(data))):\n",
    "    oid, sid, uid, event_time = data.loc[i]\n",
    "    time = datetime.strptime(event_time, '%Y-%m-%d %H:%M:%S')\n",
    "    shops_dict[sid].append((time,uid,oid))"
   ]
  },
  {
   "cell_type": "code",
   "execution_count": 7,
   "metadata": {},
   "outputs": [],
   "source": [
    "shops_dict_keys = shops_dict.keys()\n",
    "shop_ids = []\n",
    "shop_ids.extend(iter(shops_dict_keys))"
   ]
  },
  {
   "cell_type": "markdown",
   "metadata": {},
   "source": [
    "Before sorting"
   ]
  },
  {
   "cell_type": "code",
   "execution_count": 8,
   "metadata": {},
   "outputs": [
    {
     "data": {
      "text/plain": [
       "[(datetime.datetime(2019, 12, 27, 0, 23, 3), 30530270, 31076582227611),\n",
       " (datetime.datetime(2019, 12, 31, 1, 8, 23), 200055785, 31424903151124),\n",
       " (datetime.datetime(2019, 12, 29, 22, 17, 13), 103695259, 31328233643619),\n",
       " (datetime.datetime(2019, 12, 30, 10, 7, 7), 16996136, 31370827295602),\n",
       " (datetime.datetime(2019, 12, 27, 20, 42, 49), 133955528, 31149769932285),\n",
       " (datetime.datetime(2019, 12, 30, 23, 50, 2), 39501363, 31420202504710),\n",
       " (datetime.datetime(2019, 12, 30, 13, 17, 18), 8836682, 31382237261324),\n",
       " (datetime.datetime(2019, 12, 30, 20, 21, 25), 11131542, 31407685672312),\n",
       " (datetime.datetime(2019, 12, 27, 20, 30, 56), 112278302, 31149055285490),\n",
       " (datetime.datetime(2019, 12, 30, 13, 22, 5), 153538082, 31382525077702)]"
      ]
     },
     "execution_count": 8,
     "metadata": {},
     "output_type": "execute_result"
    }
   ],
   "source": [
    "shops_dict[shop_ids[0]][0:10]"
   ]
  },
  {
   "cell_type": "markdown",
   "metadata": {},
   "source": [
    "After sorting"
   ]
  },
  {
   "cell_type": "code",
   "execution_count": 10,
   "metadata": {},
   "outputs": [
    {
     "data": {
      "text/plain": [
       "[(datetime.datetime(2019, 12, 27, 0, 23, 3), 30530270, 31076582227611),\n",
       " (datetime.datetime(2019, 12, 27, 0, 56, 5), 76581354, 31078565549911),\n",
       " (datetime.datetime(2019, 12, 27, 1, 50, 22), 153541705, 31081822484272),\n",
       " (datetime.datetime(2019, 12, 27, 8, 22, 41), 88222910, 31105361715982),\n",
       " (datetime.datetime(2019, 12, 27, 8, 59, 29), 159300529, 31107568833895),\n",
       " (datetime.datetime(2019, 12, 27, 9, 25, 48), 89603889, 31109147822776),\n",
       " (datetime.datetime(2019, 12, 27, 9, 30), 1955282, 31109399440293),\n",
       " (datetime.datetime(2019, 12, 27, 11, 52, 18), 153538082, 31117937831423),\n",
       " (datetime.datetime(2019, 12, 27, 13, 45, 41), 200672963, 31124741071790),\n",
       " (datetime.datetime(2019, 12, 27, 13, 50, 42), 200011199, 31125041121869)]"
      ]
     },
     "execution_count": 10,
     "metadata": {},
     "output_type": "execute_result"
    }
   ],
   "source": [
    "shops_dict[shop_ids[0]].sort()\n",
    "shops_dict[shop_ids[0]][0:10]"
   ]
  },
  {
   "cell_type": "code",
   "execution_count": 13,
   "metadata": {},
   "outputs": [
    {
     "data": {
      "text/plain": [
       "31076582227611"
      ]
     },
     "execution_count": 13,
     "metadata": {},
     "output_type": "execute_result"
    }
   ],
   "source": [
    "shops_dict[shop_ids[0]][0][2]"
   ]
  },
  {
   "cell_type": "code",
   "execution_count": 21,
   "metadata": {},
   "outputs": [],
   "source": [
    "mot_gio = timedelta(hours=1.)\n",
    "hai_gio = timedelta(hours=2.)\n",
    "\n",
    "def detect(orders,pivot,pointer):\n",
    "    assert(pivot <= pointer and pointer < len(orders) and pivot > 0)\n",
    "    seg = defaultdict(list)\n",
    "    \n",
    "    for i in range(pivot, pointer+1):\n",
    "        uid = orders[i][1]\n",
    "        oid = orders[i][2]\n",
    "        seg[uid].append(oid)\n",
    "    \n",
    "    brushing = (pointer-pivot+1 >= 3*len(seg)) # number of orders >= ( 3 * number of unique users )\n",
    "    return brushing, seg\n",
    "\n",
    "'''\n",
    "param: orders\n",
    "    orders: a list of tuples of record of orders of the shop\n",
    "        in a shape of (time, userid, orderid) -> index = (0,1,2)\n",
    "'''\n",
    "def scan_through(orders):\n",
    "    order_list = {} # make sure no duplicated orders\n",
    "    brushing_occurs = False # flag\n",
    "    \n",
    "    # get the first and the last of the sorted orders\n",
    "    orders_head = events[0][0]\n",
    "    orders_tail = events[-1][0]\n",
    "    \n",
    "    # insert two placeholder into the head and tail of the orders\n",
    "    header = (orders_head + hai_gio,)\n",
    "    footer = (orders_tail + hai_gio,)\n",
    "    orders.insert(0,header)\n",
    "    orders.append(  footer)\n",
    "    \n",
    "    for pivot in tqdm_notebook(range(1, len(orders)-1)): # don't include the header and footer\n",
    "        for pointer in tqdm_notebook(range(pivot, len(orders)-1)):\n",
    "            if orders[pointer][0] - orders[pivot][0] <= mot_gio :\n",
    "                if (orders[pointer+1][0] - orders[pivot-1][0] > mot_gio and\n",
    "                    orders[pointer+1][0] != orders[pointer][0] and\n",
    "                    orders[pivot][0] != orders[pivot-1][0]):\n",
    "                    brushing, seg = detect(orders,pivot,pointer)"
   ]
  },
  {
   "cell_type": "code",
   "execution_count": null,
   "metadata": {},
   "outputs": [],
   "source": [
    "for i in tqdm_notebook(range(len(shop_ids))):\n",
    "    sid = shop_ids[i]\n",
    "    orders = shops_dict[sid]\n",
    "    orders.sort()\n",
    "    "
   ]
  }
 ],
 "metadata": {
  "kernelspec": {
   "display_name": "Python 3",
   "language": "python",
   "name": "python3"
  },
  "language_info": {
   "codemirror_mode": {
    "name": "ipython",
    "version": 3
   },
   "file_extension": ".py",
   "mimetype": "text/x-python",
   "name": "python",
   "nbconvert_exporter": "python",
   "pygments_lexer": "ipython3",
   "version": "3.7.4"
  }
 },
 "nbformat": 4,
 "nbformat_minor": 2
}
