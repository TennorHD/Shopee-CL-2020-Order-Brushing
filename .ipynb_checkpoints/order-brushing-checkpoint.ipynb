{
 "cells": [
  {
   "cell_type": "code",
   "execution_count": 18,
   "metadata": {
    "_cell_guid": "2eb0f3f2-19e8-4931-b56e-976a9658b23b",
    "_uuid": "799349d1-5d54-4cf7-b9e1-5cd377e5865e"
   },
   "outputs": [
    {
     "data": {
      "application/vnd.jupyter.widget-view+json": {
       "model_id": "4dc2034c3c09401ab694f1ecb234fd95",
       "version_major": 2,
       "version_minor": 0
      },
      "text/plain": [
       "HBox(children=(IntProgress(value=0, max=222750), HTML(value='')))"
      ]
     },
     "metadata": {},
     "output_type": "display_data"
    },
    {
     "name": "stdout",
     "output_type": "stream",
     "text": [
      "\n"
     ]
    }
   ],
   "source": [
    "# This Python 3 environment comes with many helpful analytics libraries installed\n",
    "# It is defined by the kaggle/python Docker image: https://github.com/kaggle/docker-python\n",
    "# For example, here's several helpful packages to load\n",
    "\n",
    "import numpy as np # linear algebra\n",
    "import pandas as pd # data processing, CSV file I/O (e.g. pd.read_csv)\n",
    "from tqdm import tqdm_notebook\n",
    "df = pd.read_csv('./order_brush_order.csv')\n",
    "from datetime import datetime, timedelta\n",
    "from collections import defaultdict\n",
    "\n",
    "shop = defaultdict(list) # creates a dictionary with default of a list\n",
    "\n",
    "for i in tqdm_notebook(range(df.shape[0])):\n",
    "    oid, sid, uid, et = df.iloc[i]\n",
    "    et = datetime.strptime(et, '%Y-%m-%d %H:%M:%S')\n",
    "    shop[sid].append((et, uid, oid)) # append all the occurrence of the shop id\n"
   ]
  },
  {
   "cell_type": "code",
   "execution_count": 27,
   "metadata": {},
   "outputs": [
    {
     "ename": "AttributeError",
     "evalue": "'collections.defaultdict' object has no attribute 'dtype'",
     "output_type": "error",
     "traceback": [
      "\u001b[1;31m---------------------------------------------------------------------------\u001b[0m",
      "\u001b[1;31mAttributeError\u001b[0m                            Traceback (most recent call last)",
      "\u001b[1;32m<ipython-input-27-9dde3666b548>\u001b[0m in \u001b[0;36m<module>\u001b[1;34m\u001b[0m\n\u001b[1;32m----> 1\u001b[1;33m \u001b[0mshop\u001b[0m\u001b[1;33m.\u001b[0m\u001b[0mdtype\u001b[0m\u001b[1;33m(\u001b[0m\u001b[1;33m)\u001b[0m\u001b[1;33m\u001b[0m\u001b[1;33m\u001b[0m\u001b[0m\n\u001b[0m",
      "\u001b[1;31mAttributeError\u001b[0m: 'collections.defaultdict' object has no attribute 'dtype'"
     ]
    }
   ],
   "source": []
  },
  {
   "cell_type": "code",
   "execution_count": 14,
   "metadata": {},
   "outputs": [],
   "source": [
    "one_hour = timedelta(hours=1.)\n",
    "two_hour = timedelta(hours=2.)\n",
    "\n",
    "def detect_segment(events, left, right):\n",
    "    assert(left <= right and left >=0 and right < len(events))\n",
    "    dic = defaultdict(list)\n",
    "    for i in range(left, right+1):\n",
    "        dic[events[i][1]].append(events[i][2])\n",
    "    \n",
    "    brushing = (right-left+1) >= 3*len(dic) # number of orders >= ( 3 * number of unique users )\n",
    "    \n",
    "    return brushing, dic\n",
    " \n",
    "    \n",
    "# param: events = [(time, userid, orderid)]\n",
    "def detect(events):\n",
    "    \n",
    "    # [left, right]\n",
    "    \n",
    "    ## order id => user id\n",
    "    ### consider orders in important []\n",
    "    ooo = {}\n",
    "    ff=False\n",
    "    \n",
    "    start = events[ 0][0] # take the first element's time\n",
    "    end   = events[-1][0] # take the last element's time\n",
    "    \n",
    "    # make endpoints for the conditions in the loop\n",
    "    events.insert(0, (start - two_hour, )) # insert the starting time + 2 hour\n",
    "    events.append(   ( end  + two_hour, )) # insert the prolonged ending time\n",
    "    \n",
    "    for left in range(1, len(events)-1):\n",
    "        for right in range(left, len(events)-1):\n",
    "            if events[right][0] - events[left][0] <= one_hour: # if within one hour range\n",
    "                if (events[right+1][0] - events[left-1][0] > one_hour and # if the next element in the list is > one hour\n",
    "                    events[right+1][0] != events[right][0] and  # if the next element's time is not the same with current\n",
    "                    events[left][0] != events[left-1][0]): # if the pivot's time is not equal to the previous time\n",
    "                    brushing, dic = detect_segment(events, left, right)\n",
    "                    if brushing:\n",
    "                        ff=True\n",
    "                        for (uid, loid) in dic.items():\n",
    "                            for order in loid:\n",
    "                                ooo[order] = uid\n",
    "\n",
    "    ## 1 2\n",
    "    ## 1:30 - 2:20\n",
    "    ## \n",
    "    ## ooo => order IDs in ... \n",
    "    \n",
    "    ## uuu : uid => count of # orders\n",
    "    uuu = defaultdict(int)\n",
    "    \n",
    "    ## mm: maximum number of orders \n",
    "    mm = -1\n",
    "    for oid, uid in ooo.items():\n",
    "        uuu[uid] += 1\n",
    "        mm = max(mm, uuu[uid])\n",
    "    \n",
    "    ## candidates\n",
    "    can = []\n",
    "    \n",
    "    for uid, count in uuu.items():\n",
    "        if count == mm:\n",
    "            can.append(uid)\n",
    "    \n",
    "    if len(can) == 0:\n",
    "        return ff, '0'\n",
    "    else:\n",
    "        can.sort()\n",
    "        return ff, '&'.join([str(a) for a in can])"
   ]
  },
  {
   "cell_type": "code",
   "execution_count": 29,
   "metadata": {},
   "outputs": [
    {
     "data": {
      "application/vnd.jupyter.widget-view+json": {
       "model_id": "1df61839107044e89b7446e16faeabd5",
       "version_major": 2,
       "version_minor": 0
      },
      "text/plain": [
       "HBox(children=(IntProgress(value=1, bar_style='info', max=1), HTML(value='')))"
      ]
     },
     "metadata": {},
     "output_type": "display_data"
    },
    {
     "ename": "AxisError",
     "evalue": "axis -1 is out of bounds for array of dimension 0",
     "output_type": "error",
     "traceback": [
      "\u001b[1;31m---------------------------------------------------------------------------\u001b[0m",
      "\u001b[1;31mAxisError\u001b[0m                                 Traceback (most recent call last)",
      "\u001b[1;32m<ipython-input-29-115bd7b3892d>\u001b[0m in \u001b[0;36m<module>\u001b[1;34m\u001b[0m\n\u001b[0;32m      2\u001b[0m \u001b[0mc\u001b[0m\u001b[1;33m=\u001b[0m\u001b[1;36m0\u001b[0m\u001b[1;33m\u001b[0m\u001b[1;33m\u001b[0m\u001b[0m\n\u001b[0;32m      3\u001b[0m \u001b[1;32mfor\u001b[0m \u001b[0msid\u001b[0m\u001b[1;33m,\u001b[0m \u001b[0mv\u001b[0m \u001b[1;32min\u001b[0m \u001b[0mtqdm_notebook\u001b[0m\u001b[1;33m(\u001b[0m\u001b[0menumerate\u001b[0m\u001b[1;33m(\u001b[0m\u001b[0mshop\u001b[0m\u001b[1;33m)\u001b[0m\u001b[1;33m)\u001b[0m\u001b[1;33m:\u001b[0m \u001b[1;31m# item format: sid (index), v ([(time, userid, orderid)])\u001b[0m\u001b[1;33m\u001b[0m\u001b[1;33m\u001b[0m\u001b[0m\n\u001b[1;32m----> 4\u001b[1;33m     \u001b[0mv\u001b[0m\u001b[1;33m.\u001b[0m\u001b[0msort\u001b[0m\u001b[1;33m(\u001b[0m\u001b[1;33m)\u001b[0m\u001b[1;33m\u001b[0m\u001b[1;33m\u001b[0m\u001b[0m\n\u001b[0m\u001b[0;32m      5\u001b[0m     \u001b[0mff\u001b[0m\u001b[1;33m,\u001b[0m \u001b[0mout\u001b[0m \u001b[1;33m=\u001b[0m \u001b[0mdetect\u001b[0m\u001b[1;33m(\u001b[0m\u001b[0mv\u001b[0m\u001b[1;33m)\u001b[0m\u001b[1;33m\u001b[0m\u001b[1;33m\u001b[0m\u001b[0m\n\u001b[0;32m      6\u001b[0m     \u001b[1;32mif\u001b[0m \u001b[0mff\u001b[0m\u001b[1;33m:\u001b[0m\u001b[1;33m\u001b[0m\u001b[1;33m\u001b[0m\u001b[0m\n",
      "\u001b[1;31mAxisError\u001b[0m: axis -1 is out of bounds for array of dimension 0"
     ]
    }
   ],
   "source": [
    "data = []\n",
    "c=0\n",
    "for sid, v in shop.items(): # item format: sid (index), v ([(time, userid, orderid)])\n",
    "    v.sort()\n",
    "    ff, out = detect(v)\n",
    "    if ff:\n",
    "        c=c+1\n",
    "    data.append((sid, out))\n",
    "\n",
    "print(c)\n",
    "\n",
    "submission = pd.DataFrame(data=data, columns = ['shopid', 'userid'])\n",
    "submission.to_csv('submission.csv', index=False, header=True)"
   ]
  },
  {
   "cell_type": "code",
   "execution_count": null,
   "metadata": {},
   "outputs": [],
   "source": [
    "submission.shape[0] - sum(submission['userid'] == '0')"
   ]
  },
  {
   "cell_type": "code",
   "execution_count": null,
   "metadata": {},
   "outputs": [],
   "source": [
    "!head submission.csv"
   ]
  },
  {
   "cell_type": "code",
   "execution_count": null,
   "metadata": {},
   "outputs": [],
   "source": []
  }
 ],
 "metadata": {
  "kernelspec": {
   "display_name": "Python 3",
   "language": "python",
   "name": "python3"
  },
  "language_info": {
   "codemirror_mode": {
    "name": "ipython",
    "version": 3
   },
   "file_extension": ".py",
   "mimetype": "text/x-python",
   "name": "python",
   "nbconvert_exporter": "python",
   "pygments_lexer": "ipython3",
   "version": "3.7.4"
  }
 },
 "nbformat": 4,
 "nbformat_minor": 4
}
