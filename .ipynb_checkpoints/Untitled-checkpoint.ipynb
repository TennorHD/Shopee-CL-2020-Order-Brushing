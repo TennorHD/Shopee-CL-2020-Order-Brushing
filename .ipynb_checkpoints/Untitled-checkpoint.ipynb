{
 "cells": [
  {
   "cell_type": "code",
   "execution_count": 1,
   "metadata": {},
   "outputs": [],
   "source": [
    "import pandas as pd\n",
    "import numpy as np\n",
    "import math"
   ]
  },
  {
   "cell_type": "code",
   "execution_count": 2,
   "metadata": {},
   "outputs": [],
   "source": [
    "# Only for weather files, need to change the file name\n",
    "data_dir = 'C:\\\\Users\\\\Owner\\\\Desktop\\\\UNUK\\\\Shopee\\\\1\\\\'\n",
    "df = pd.read_csv(data_dir+\"order.csv\",names=['orderid','shopid','userid','event_time','day','minute'],header=1)"
   ]
  },
  {
   "cell_type": "code",
   "execution_count": 3,
   "metadata": {
    "scrolled": true
   },
   "outputs": [],
   "source": [
    "shop_list = pd.unique(df['shopid'])"
   ]
  },
  {
   "cell_type": "code",
   "execution_count": 4,
   "metadata": {},
   "outputs": [],
   "source": [
    "individual_shops = list()\n",
    "for shop in shop_list:\n",
    "    is_shop = df['shopid']==shop\n",
    "    new_df = df[is_shop]\n",
    "    new_df = new_df.reset_index()\n",
    "    individual_shops.append(new_df)"
   ]
  },
  {
   "cell_type": "code",
   "execution_count": 6,
   "metadata": {},
   "outputs": [
    {
     "name": "stdout",
     "output_type": "stream",
     "text": [
      "**running shop 1 of 18770**\n",
      "**running shop 2 of 18770**\n"
     ]
    },
    {
     "ename": "UnboundLocalError",
     "evalue": "local variable 'concentration' referenced before assignment",
     "output_type": "error",
     "traceback": [
      "\u001b[1;31m---------------------------------------------------------------------------\u001b[0m",
      "\u001b[1;31mUnboundLocalError\u001b[0m                         Traceback (most recent call last)",
      "\u001b[1;32m<ipython-input-6-27e912d5a786>\u001b[0m in \u001b[0;36m<module>\u001b[1;34m\u001b[0m\n\u001b[0;32m      5\u001b[0m     \u001b[0mresult\u001b[0m \u001b[1;33m=\u001b[0m \u001b[0mlist\u001b[0m\u001b[1;33m(\u001b[0m\u001b[1;33m)\u001b[0m\u001b[1;33m\u001b[0m\u001b[1;33m\u001b[0m\u001b[0m\n\u001b[0;32m      6\u001b[0m     \u001b[1;32mfor\u001b[0m \u001b[0mtime\u001b[0m \u001b[1;32min\u001b[0m \u001b[0mrange\u001b[0m\u001b[1;33m(\u001b[0m\u001b[1;36m7200\u001b[0m\u001b[1;33m)\u001b[0m\u001b[1;33m:\u001b[0m\u001b[1;33m\u001b[0m\u001b[1;33m\u001b[0m\u001b[0m\n\u001b[1;32m----> 7\u001b[1;33m         \u001b[0muser_ids\u001b[0m \u001b[1;33m=\u001b[0m \u001b[0msuspicious\u001b[0m\u001b[1;33m(\u001b[0m\u001b[0mtime\u001b[0m\u001b[1;33m,\u001b[0m\u001b[0mshop_index\u001b[0m\u001b[1;33m)\u001b[0m\u001b[1;33m\u001b[0m\u001b[1;33m\u001b[0m\u001b[0m\n\u001b[0m\u001b[0;32m      8\u001b[0m \u001b[1;31m#         print(user_ids)\u001b[0m\u001b[1;33m\u001b[0m\u001b[1;33m\u001b[0m\u001b[1;33m\u001b[0m\u001b[0m\n\u001b[0;32m      9\u001b[0m         \u001b[1;32mfor\u001b[0m \u001b[0muser_id\u001b[0m \u001b[1;32min\u001b[0m \u001b[0muser_ids\u001b[0m\u001b[1;33m:\u001b[0m\u001b[1;33m\u001b[0m\u001b[1;33m\u001b[0m\u001b[0m\n",
      "\u001b[1;32m<ipython-input-5-b6d8ec53badd>\u001b[0m in \u001b[0;36msuspicious\u001b[1;34m(start, shop_index)\u001b[0m\n\u001b[0;32m     34\u001b[0m     \u001b[0mtemp\u001b[0m\u001b[1;33m=\u001b[0m\u001b[1;33m{\u001b[0m\u001b[1;34m'purchase'\u001b[0m\u001b[1;33m:\u001b[0m\u001b[0mpurchase_per_buyer\u001b[0m\u001b[1;33m}\u001b[0m\u001b[1;33m\u001b[0m\u001b[1;33m\u001b[0m\u001b[0m\n\u001b[0;32m     35\u001b[0m     \u001b[0md\u001b[0m \u001b[1;33m=\u001b[0m \u001b[0mpd\u001b[0m\u001b[1;33m.\u001b[0m\u001b[0mDataFrame\u001b[0m\u001b[1;33m(\u001b[0m \u001b[0mtemp\u001b[0m\u001b[1;33m,\u001b[0m \u001b[0mcolumns\u001b[0m\u001b[1;33m=\u001b[0m\u001b[1;33m[\u001b[0m\u001b[1;34m'purchase'\u001b[0m\u001b[1;33m]\u001b[0m\u001b[1;33m)\u001b[0m\u001b[1;33m\u001b[0m\u001b[1;33m\u001b[0m\u001b[0m\n\u001b[1;32m---> 36\u001b[1;33m     \u001b[1;32mif\u001b[0m \u001b[1;33m(\u001b[0m\u001b[0mconcentration\u001b[0m \u001b[1;33m>\u001b[0m \u001b[1;36m2\u001b[0m \u001b[1;32mor\u001b[0m \u001b[0many\u001b[0m\u001b[1;33m(\u001b[0m\u001b[0md\u001b[0m\u001b[1;33m[\u001b[0m\u001b[1;34m'purchase'\u001b[0m\u001b[1;33m]\u001b[0m\u001b[1;33m>\u001b[0m\u001b[0mmath\u001b[0m\u001b[1;33m.\u001b[0m\u001b[0mceil\u001b[0m\u001b[1;33m(\u001b[0m\u001b[0mmean\u001b[0m\u001b[1;33m(\u001b[0m\u001b[0mpurchase_per_buyer\u001b[0m\u001b[1;33m)\u001b[0m\u001b[1;33m)\u001b[0m\u001b[1;33m)\u001b[0m\u001b[1;33m)\u001b[0m\u001b[1;33m:\u001b[0m\u001b[1;33m\u001b[0m\u001b[1;33m\u001b[0m\u001b[0m\n\u001b[0m\u001b[0;32m     37\u001b[0m \u001b[1;31m#         print(\"mean = {}\".format(mean(purchase_per_buyer)))\u001b[0m\u001b[1;33m\u001b[0m\u001b[1;33m\u001b[0m\u001b[1;33m\u001b[0m\u001b[0m\n\u001b[0;32m     38\u001b[0m         \u001b[0minList\u001b[0m \u001b[1;33m=\u001b[0m \u001b[1;36m0\u001b[0m\u001b[1;33m\u001b[0m\u001b[1;33m\u001b[0m\u001b[0m\n",
      "\u001b[1;31mUnboundLocalError\u001b[0m: local variable 'concentration' referenced before assignment"
     ]
    }
   ],
   "source": [
    "final_result = list()\n",
    "shops = list()\n",
    "for shop_index in range(len(individual_shops)):\n",
    "    print(\"**running shop {} of {}**\".format(shop_index+1,len(individual_shops)))\n",
    "    result = list()\n",
    "    for time in range(7200):\n",
    "        user_ids = suspicious(time,shop_index)\n",
    "#         print(user_ids)\n",
    "        for user_id in user_ids:\n",
    "            if user_id not in result:\n",
    "                result.append(user_id)\n",
    "    result_string = \"\"\n",
    "    if len(result_string) > 0:\n",
    "        for ii in range(len(result)):\n",
    "            if(ii>0):\n",
    "                result_string = result_string + \"&\"\n",
    "            result_string += result[ii]\n",
    "    else:\n",
    "        result_string = \"0\"\n",
    "    final_result.append(result_string)\n",
    "    shops.append(individual_shops[shop_index]['shopid'])\n",
    "    \n",
    "data = {\n",
    "    'shopid': shops,\n",
    "    'userid': final_result\n",
    "}\n",
    "\n",
    "processed_df = pd.DataFrame( data, columns=['shopid', 'userid'])"
   ]
  },
  {
   "cell_type": "code",
   "execution_count": 5,
   "metadata": {},
   "outputs": [],
   "source": [
    "from statistics import mean\n",
    "import math\n",
    "def suspicious(start,shop_index): #shoporders,shopId\n",
    "    #total order in that hour\n",
    "    totalorder = 0\n",
    "    #unique user in that hour\n",
    "    list_of_buyer = list()\n",
    "    order_times_within_period=0\n",
    "    \n",
    "    end = start+60\n",
    "    #for each order in the shop\n",
    "    is_start = individual_shops[shop_index]['minute'] >= start\n",
    "    is_end = individual_shops[shop_index]['minute'] <= end\n",
    "    shoporders = individual_shops[shop_index][is_start & is_end]\n",
    "    shoporders = shoporders.reset_index()\n",
    "    order_times_within_period = len(shoporders)\n",
    "    list_of_buyer = pd.unique(shoporders['userid'])\n",
    "    purchase_per_buyer = [0]*len(list_of_buyer)\n",
    "    \n",
    "    TOKEN_TO_ID = { list_of_buyer[x]:x for x in range(len(list_of_buyer)) } \n",
    "    ID_TO_TOKEN = { TOKEN_TO_ID[key]:key for key in TOKEN_TO_ID.keys() }\n",
    "    concentration = 0\n",
    "    if(len(shoporders)>0):\n",
    "        for ii in range(len(shoporders)):\n",
    "            userid = shoporders['userid'][ii]\n",
    "            index = TOKEN_TO_ID[userid]\n",
    "            purchase_per_buyer[index] += 1\n",
    "\n",
    "        concentration = order_times_within_period/len(list_of_buyer)\n",
    "#         print(\"concentration = {} order = {} buyers = {}\".format(concentration,order_times_within_period,len(list_of_buyer)))\n",
    "    \n",
    "    result = list()\n",
    "    temp={'purchase':purchase_per_buyer}\n",
    "    d = pd.DataFrame( temp, columns=['purchase'])\n",
    "    if (concentration > 2 or any(d['purchase']>=3))):\n",
    "#         print(\"mean = {}\".format(mean(purchase_per_buyer)))\n",
    "        inList = 0\n",
    "        #find the most frequent buyer in list_of_user\n",
    "        for ii in range(len(list_of_buyer)):\n",
    "            if purchase_per_buyer[ii] >=3:\n",
    "                if(list_of_buyer[ii] not in result):\n",
    "                    result.append(list_of_buyer[ii])\n",
    "\n",
    "    return result"
   ]
  },
  {
   "cell_type": "code",
   "execution_count": 24,
   "metadata": {},
   "outputs": [],
   "source": [
    "shop = individual_shops[0][(individual_shops[shop_index]['minute']>=0) & (individual_shops[shop_index]['minute']<=60)]"
   ]
  },
  {
   "cell_type": "code",
   "execution_count": 27,
   "metadata": {},
   "outputs": [],
   "source": [
    "list_of_buyer = pd.unique(shop['userid'])\n",
    "purchase_per_buyer = [0]*len(list_of_buyer)\n",
    "\n",
    "TOKEN_TO_ID = { list_of_buyer[x]:x for x in range(len(list_of_buyer)) } \n",
    "ID_TO_TOKEN = { TOKEN_TO_ID[key]:key for key in TOKEN_TO_ID.keys() }"
   ]
  },
  {
   "cell_type": "code",
   "execution_count": 30,
   "metadata": {},
   "outputs": [],
   "source": [
    "for ii in range(len(shop)):\n",
    "    purchase_per_buyer[TOKEN_TO_ID[shop['userid'][ii]]] += 1"
   ]
  },
  {
   "cell_type": "code",
   "execution_count": 62,
   "metadata": {},
   "outputs": [
    {
     "ename": "TypeError",
     "evalue": "'>' not supported between instances of 'list' and 'int'",
     "output_type": "error",
     "traceback": [
      "\u001b[1;31m---------------------------------------------------------------------------\u001b[0m",
      "\u001b[1;31mTypeError\u001b[0m                                 Traceback (most recent call last)",
      "\u001b[1;32m<ipython-input-62-04e8ce2188e8>\u001b[0m in \u001b[0;36m<module>\u001b[1;34m\u001b[0m\n\u001b[1;32m----> 1\u001b[1;33m \u001b[0mpurchase_per_buyer\u001b[0m \u001b[1;33m>\u001b[0m \u001b[1;36m4\u001b[0m\u001b[1;33m\u001b[0m\u001b[1;33m\u001b[0m\u001b[0m\n\u001b[0m",
      "\u001b[1;31mTypeError\u001b[0m: '>' not supported between instances of 'list' and 'int'"
     ]
    }
   ],
   "source": [
    "purchase_per_buyer > 4"
   ]
  }
 ],
 "metadata": {
  "kernelspec": {
   "display_name": "Python 3",
   "language": "python",
   "name": "python3"
  },
  "language_info": {
   "codemirror_mode": {
    "name": "ipython",
    "version": 3
   },
   "file_extension": ".py",
   "mimetype": "text/x-python",
   "name": "python",
   "nbconvert_exporter": "python",
   "pygments_lexer": "ipython3",
   "version": "3.7.4"
  }
 },
 "nbformat": 4,
 "nbformat_minor": 2
}
